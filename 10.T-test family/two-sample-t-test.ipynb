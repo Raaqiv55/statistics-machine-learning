{
 "cells": [
  {
   "cell_type": "code",
   "execution_count": 1,
   "id": "453b0c67",
   "metadata": {},
   "outputs": [],
   "source": [
    "import numpy as np\n",
    "import matplotlib.pyplot as plt\n",
    "import pandas as pd\n",
    "import scipy.stats as stats"
   ]
  },
  {
   "cell_type": "code",
   "execution_count": 3,
   "id": "746e542a",
   "metadata": {},
   "outputs": [
    {
     "data": {
      "image/png": "[encoded data removed]",
      "text/plain": [
       "<Figure size 640x480 with 1 Axes>"
      ]
     },
     "metadata": {},
     "output_type": "display_data"
    }
   ],
   "source": [
    "n1 = 30\n",
    "n2 = 40\n",
    "mu1 = 1\n",
    "mu2 = 1.2\n",
    "\n",
    "data1 = mu1 + np.random.randn(n1)/10\n",
    "data2 = mu2 + np.random.randn(n2)/10\n",
    "\n",
    "plt.hist(data1,bins='fd',color=[1,0,0,.5],label='Data 1')\n",
    "plt.hist(data2,bins='fd',color=[0,0,1,.5],label='Data 2')\n",
    "plt.xlabel('Data value')\n",
    "plt.ylabel('Count')\n",
    "plt.legend()\n",
    "plt.show()"
   ]
  },
  {
   "cell_type": "code",
   "execution_count": 7,
   "id": "b6ee3b56",
   "metadata": {},
   "outputs": [
    {
     "name": "stdout",
     "output_type": "stream",
     "text": [
      "t(68) =  -1.4315, p=0.157296\n"
     ]
    }
   ],
   "source": [
    "t,p = stats.ttest_ind(data1,data2,equal_var=False)\n",
    "\n",
    "df = n1+n2-2\n",
    "print('t(%g) =  %g, p=%g'%(df,t,p))"
   ]
  },
  {
   "cell_type": "code",
   "execution_count": 14,
   "id": "63754add",
   "metadata": {},
   "outputs": [
    {
     "ename": "NameError",
     "evalue": "name 'allTvals' is not defined",
     "output_type": "error",
     "traceback": [
      "\u001b[1;31m---------------------------------------------------------------------------\u001b[0m",
      "\u001b[1;31mNameError\u001b[0m                                 Traceback (most recent call last)",
      "Cell \u001b[1;32mIn[14], line 16\u001b[0m\n\u001b[0;32m     13\u001b[0m         s \u001b[38;5;241m=\u001b[39m np\u001b[38;5;241m.\u001b[39msqrt(( (n1\u001b[38;5;241m-\u001b[39m\u001b[38;5;241m1\u001b[39m)\u001b[38;5;241m*\u001b[39mpooledvar[vari] \u001b[38;5;241m+\u001b[39m (n2\u001b[38;5;241m-\u001b[39m\u001b[38;5;241m1\u001b[39m)\u001b[38;5;241m*\u001b[39mpooledvar[vari])\u001b[38;5;241m/\u001b[39mdf)\n\u001b[0;32m     14\u001b[0m         t_den \u001b[38;5;241m=\u001b[39m s \u001b[38;5;241m*\u001b[39m np\u001b[38;5;241m.\u001b[39msqrt(\u001b[38;5;241m1\u001b[39m\u001b[38;5;241m/\u001b[39mn1 \u001b[38;5;241m+\u001b[39m \u001b[38;5;241m1\u001b[39m\u001b[38;5;241m/\u001b[39mn2)\n\u001b[1;32m---> 16\u001b[0m         allTvals[meani,vari] \u001b[38;5;241m=\u001b[39m meandiffs[meani] \u001b[38;5;241m/\u001b[39m t_den\n\u001b[0;32m     19\u001b[0m plt\u001b[38;5;241m.\u001b[39mimshow(allTvals,vmin\u001b[38;5;241m=\u001b[39m\u001b[38;5;241m-\u001b[39m\u001b[38;5;241m4\u001b[39m,vmax\u001b[38;5;241m=\u001b[39m\u001b[38;5;241m4\u001b[39m,extent\u001b[38;5;241m=\u001b[39m[pooledvar[\u001b[38;5;241m0\u001b[39m],pooledvar[\u001b[38;5;241m-\u001b[39m\u001b[38;5;241m1\u001b[39m],meandiffs[\u001b[38;5;241m0\u001b[39m],meandiffs[\u001b[38;5;241m-\u001b[39m\u001b[38;5;241m1\u001b[39m]],aspect\u001b[38;5;241m=\u001b[39m\u001b[38;5;124m'\u001b[39m\u001b[38;5;124mauto\u001b[39m\u001b[38;5;124m'\u001b[39m)\n\u001b[0;32m     20\u001b[0m plt\u001b[38;5;241m.\u001b[39mxlabel(\u001b[38;5;124m'\u001b[39m\u001b[38;5;124mVariance\u001b[39m\u001b[38;5;124m'\u001b[39m)\n",
      "\u001b[1;31mNameError\u001b[0m: name 'allTvals' is not defined"
     ]
    }
   ],
   "source": [
    "meandiffs = np.linspace(-3,3,80)\n",
    "pooledvar = np.linspace(.5,4,100)\n",
    "\n",
    "n1 = 40\n",
    "n2 = 30\n",
    "\n",
    "allTval = np.zeros((len(meandiffs),len(pooledvar)))\n",
    "\n",
    "for meani in range(len(meandiffs)):\n",
    "    for vari in range(len(pooledvar)):\n",
    "        \n",
    "        df = n1 + n2 - 2\n",
    "        s = np.sqrt(( (n1-1)*pooledvar[vari] + (n2-1)*pooledvar[vari])/df)\n",
    "        t_den = s * np.sqrt(1/n1 + 1/n2)\n",
    "        \n",
    "        allTvals[meani,vari] = meandiffs[meani] / t_den\n",
    "\n",
    "\n",
    "plt.imshow(allTvals,vmin=-4,vmax=4,extent=[pooledvar[0],pooledvar[-1],meandiffs[0],meandiffs[-1]],aspect='auto')\n",
    "plt.xlabel('Variance')\n",
    "plt.ylabel('Mean differences')\n",
    "plt.colorbar()\n",
    "plt.title('t-values as a function of difference and variance')\n",
    "plt.show()"
   ]
  },
  {
   "cell_type": "code",
   "execution_count": null,
   "id": "de3edafa",
   "metadata": {},
   "outputs": [],
   "source": []
  }
 ],
 "metadata": {
  "kernelspec": {
   "display_name": "Python 3 (ipykernel)",
   "language": "python",
   "name": "python3"
  },
  "language_info": {
   "codemirror_mode": {
    "name": "ipython",
    "version": 3
   },
   "file_extension": ".py",
   "mimetype": "text/x-python",
   "name": "python",
   "nbconvert_exporter": "python",
   "pygments_lexer": "ipython3",
   "version": "3.11.5"
  }
 },
 "nbformat": 4,
 "nbformat_minor": 5
}
