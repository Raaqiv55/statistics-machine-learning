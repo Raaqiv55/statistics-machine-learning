{
 "cells": [
  {
   "cell_type": "code",
   "execution_count": 11,
   "id": "13f1b5c7",
   "metadata": {},
   "outputs": [],
   "source": [
    "numdata = [1,7,17,1717]\n",
    "\n",
    "chardata = 'xyz'\n",
    "\n",
    "strdata = \"x\"\n",
    "\n",
    "logitdata = True\n",
    "\n",
    "listdata = [[3,4,34], 'hello', 4]\n",
    "\n",
    "dictdata = dict()\n",
    "dictdata['data'] =  'Mike'\n",
    "dictdata['age'] = 25\n",
    "dictdata['occupation'] = 'Nerdoscientist'"
   ]
  },
  {
   "cell_type": "code",
   "execution_count": 12,
   "id": "0b6ac0ca",
   "metadata": {},
   "outputs": [
    {
     "name": "stdout",
     "output_type": "stream",
     "text": [
      "Variable    Type    Data/Info\n",
      "-----------------------------\n",
      "chardata    str     xyz\n",
      "dictdata    dict    n=3\n",
      "listdata    list    n=3\n",
      "logitdata   bool    True\n",
      "numdata     list    n=4\n",
      "strdata     str     x\n"
     ]
    }
   ],
   "source": [
    "%whos"
   ]
  },
  {
   "cell_type": "code",
   "execution_count": 6,
   "id": "71072022",
   "metadata": {},
   "outputs": [],
   "source": [
    "%reset -sf"
   ]
  },
  {
   "cell_type": "code",
   "execution_count": null,
   "id": "f413bd9a",
   "metadata": {},
   "outputs": [],
   "source": []
  }
 ],
 "metadata": {
  "kernelspec": {
   "display_name": "Python 3 (ipykernel)",
   "language": "python",
   "name": "python3"
  },
  "language_info": {
   "codemirror_mode": {
    "name": "ipython",
    "version": 3
   },
   "file_extension": ".py",
   "mimetype": "text/x-python",
   "name": "python",
   "nbconvert_exporter": "python",
   "pygments_lexer": "ipython3",
   "version": "3.11.5"
  }
 },
 "nbformat": 4,
 "nbformat_minor": 5
}
