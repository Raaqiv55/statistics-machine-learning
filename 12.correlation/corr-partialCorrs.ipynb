{
 "cells": [
  {
   "cell_type": "code",
   "execution_count": 5,
   "id": "75b1834d",
   "metadata": {},
   "outputs": [],
   "source": [
    "import numpy as np\n",
    "import matplotlib.pyplot as plt\n",
    "import pandas as pd\n",
    "import scipy.stats as stats\n",
    "from matplotlib.patches import Polygon"
   ]
  },
  {
   "cell_type": "code",
   "execution_count": 12,
   "id": "89b52c97",
   "metadata": {},
   "outputs": [],
   "source": [
    "import pingouin as pg"
   ]
  },
  {
   "cell_type": "code",
   "execution_count": 8,
   "id": "6d43c3e5",
   "metadata": {},
   "outputs": [
    {
     "name": "stdout",
     "output_type": "stream",
     "text": [
      "-0.07647191129018778\n",
      "-0.05263157894736849\n"
     ]
    }
   ],
   "source": [
    "rmg = .7\n",
    "rsg = .8\n",
    "rms = .9\n",
    "\n",
    "rho_mg_s = (rmg - rsg*rms) / ( np.sqrt(1-rsg**2)*np.sqrt(1-rms**2) )\n",
    "rho_sg_m = (rsg - rms*rms) / ( np.sqrt(1-rms**2)*np.sqrt(1-rms**2) )\n",
    "\n",
    "print(rho_mg_s)\n",
    "print(rho_sg_m)"
   ]
  },
  {
   "cell_type": "code",
   "execution_count": 17,
   "id": "93314b9c",
   "metadata": {},
   "outputs": [
    {
     "name": "stdout",
     "output_type": "stream",
     "text": [
      "          x1        x2        x3\n",
      "x1  1.000000  0.933637  0.929990\n",
      "x2  0.933637  1.000000  0.876732\n",
      "x3  0.929990  0.876732  1.000000\n",
      " \n",
      "0.9336370198439421\n",
      " \n",
      "          n         r         CI95%         p-val\n",
      "pearson  76  0.669032  [0.52, 0.78]  5.353323e-11\n"
     ]
    }
   ],
   "source": [
    "N = 76\n",
    "\n",
    "x1 = np.linspace(1,10,N) + np.random.randn(N)\n",
    "x2 = x1 + np.random.randn(N)\n",
    "x3 = x1 + np.random.randn(N)\n",
    "\n",
    "df = pd.DataFrame()\n",
    "df['x1'] = x1\n",
    "df['x2'] = x2\n",
    "df['x3'] = x3\n",
    "\n",
    "cormatR = df.corr()\n",
    "print(cormatR)\n",
    "\n",
    "print(' ')\n",
    "print(cormatR.values[1,0])\n",
    "\n",
    "pc = pg.partial_corr(df,x='x1',y='x2',covar='x3')\n",
    "print(' ')\n",
    "print(pc)\n"
   ]
  },
  {
   "cell_type": "code",
   "execution_count": 21,
   "id": "00d96a39",
   "metadata": {},
   "outputs": [
    {
     "data": {
      "text/plain": [
       "[<matplotlib.axis.YTick at 0x1fd2c6e5610>,\n",
       " <matplotlib.axis.YTick at 0x1fd2c6dcb90>,\n",
       " <matplotlib.axis.YTick at 0x1fd2c6ac750>]"
      ]
     },
     "execution_count": 21,
     "metadata": {},
     "output_type": "execute_result"
    },
    {
     "data": {
      "image/png": "[encoded data removed]",
      "text/plain": [
       "<Figure size 600x300 with 2 Axes>"
      ]
     },
     "metadata": {},
     "output_type": "display_data"
    }
   ],
   "source": [
    "fig,ax = plt.subplots(1,2,figsize=(6,3))\n",
    "\n",
    "ax[0].imshow(cormatR.values,vmin=-1,vmax=1)\n",
    "ax[0].set_xticks(range(3))\n",
    "ax[0].set_yticks(range(3))\n",
    "\n",
    "for i in range(3):\n",
    "    for j in range(3):\n",
    "        ax[0].text(i,j,np.round(cormatR.values[i,j],2), horizontalalignment='center')\n",
    "        \n",
    "\n",
    "\n",
    "particalCorMat = df.pcorr()\n",
    "ax[1].imshow(particalCorMat.values,vmin=-1,vmax=1)\n",
    "ax[1].set_xticks(range(3))\n",
    "ax[1].set_yticks(range(3))"
   ]
  },
  {
   "cell_type": "code",
   "execution_count": null,
   "id": "40bfe506",
   "metadata": {},
   "outputs": [],
   "source": [
    "fig,ax = plt.subplots(1,2,figsize=(6,3))\n",
    "\n",
    "ax[0].imshow(cormatR.values,vmin=-1,vmax=1)\n",
    "ax[0].set_xticks(range(3))\n",
    "ax[0].set_yticks(range(3))\n",
    "\n",
    "for i in range(3):\n",
    "    for j in range(3):\n",
    "        ax[0].text(i,j,np.round(cormatR.values[i,j],2), horizontalalignment='center')\n",
    "        \n",
    "\n",
    "\n",
    "particalCorMat = df.pcorr()\n",
    "ax[1].imshow(particalCorMat.values,vmin=-1,vmax=1)\n",
    "ax[1].set_xticks(range(3))\n",
    "ax[1].set_yticks(range(3))"
   ]
  }
 ],
 "metadata": {
  "kernelspec": {
   "display_name": "Python 3 (ipykernel)",
   "language": "python",
   "name": "python3"
  },
  "language_info": {
   "codemirror_mode": {
    "name": "ipython",
    "version": 3
   },
   "file_extension": ".py",
   "mimetype": "text/x-python",
   "name": "python",
   "nbconvert_exporter": "python",
   "pygments_lexer": "ipython3",
   "version": "3.11.5"
  }
 },
 "nbformat": 4,
 "nbformat_minor": 5
}
